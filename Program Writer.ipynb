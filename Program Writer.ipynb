{
 "cells": [
  {
   "cell_type": "markdown",
   "id": "81f29a21",
   "metadata": {},
   "source": [
    "# Easter 2025 Ward Activity for the Sugar Land 2nd Ward\n",
    "# Based on the Template for Creating Sacrament Meeting Programs\n",
    "\n",
    "## Uses MarkupPy to generate the HTML"
   ]
  },
  {
   "cell_type": "code",
   "execution_count": 80,
   "id": "aa66d71d",
   "metadata": {},
   "outputs": [],
   "source": [
    "#\n",
    "# Sugar Land 2nd Ward HTML Program Writer\n",
    "#\n",
    "# Pete Slater\n",
    "# March 2025\n",
    "\n",
    "import datetime as dt\n",
    "tic = dt.datetime.now()\n",
    "import hymndict # Titles and links to hymns\n",
    "import htmlpy # Local copy of source code\n",
    "from htmlpy import oneliner as e\n",
    "import artlinks # Links to artwork\n",
    "import sys\n",
    "\n",
    "import calendar"
   ]
  },
  {
   "cell_type": "markdown",
   "id": "77d10844",
   "metadata": {},
   "source": [
    "# Customized functions to create the HTML for standard agenda items"
   ]
  },
  {
   "cell_type": "code",
   "execution_count": 81,
   "id": "49433c25",
   "metadata": {},
   "outputs": [],
   "source": [
    "'''\n",
    "Define functions for formatting each of the items that can appear in a program.\n",
    "Build the program in the main script by calling the functions.\n",
    "\n",
    "'''\n",
    "def officer(role, officer, page):\n",
    "    page.p(e.b(role+\":\")+\" \"+officer,align=\"center\")\n",
    "\n",
    "def pagetitle(unit, meeting, meetdate,page):\n",
    "    page.h1(unit, align=\"center\")\n",
    "    page.h2(meeting, align=\"center\")\n",
    "    page.h2(meetdate, align=\"center\")\n",
    "\n",
    "def speaker(name, page):\n",
    "    page.h2(\"Speaker\", align=\"center\")\n",
    "    page.p(name,align=\"center\")\n",
    "def prayer(name, description, page):\n",
    "    page.h2(description, align=\"center\")\n",
    "    page.p(name,align=\"center\")    \n",
    "    \n",
    "def testimony(name, page):\n",
    "    page.h2(\"Testimony\", align=\"center\")\n",
    "    page.p(name,align=\"center\")\n",
    "    \n",
    "def testimonies(page):\n",
    "    page.h2(\"Bearing of Testimonies\", align=\"center\")\n",
    "\n",
    "def music(number, description, page):\n",
    "    page.h2(description,align=\"center\")\n",
    "    [hymntitle, hymnurl] = hymndict.hymns[number]\n",
    "    page.p(e.a(\"#\" + str(number)+\", \"+hymntitle, href=hymnurl),align=\"center\")\n",
    "    \n",
    "def specialmusic(performers,page,title=None,accompanist=None):\n",
    "    page.h2(\"Special Musical Number\",align=\"center\")\n",
    "    if title != None:\n",
    "        page.p(e.i(title),align=\"center\")\n",
    "    page.p(performers,align=\"center\")\n",
    "    if accompanist != None:\n",
    "        page.p(\"Acc. by \" + accompanist, align=\"center\")\n",
    "        \n",
    "def thought(text, author, page):\n",
    "    page.hr()\n",
    "    page.p(text, align=\"center\")\n",
    "    page.p(\"- \"+author,align=\"center\")\n",
    " \n",
    "# Announcements are passed as a list of text strings\n",
    "def announcements(textlist,page):\n",
    "    page.hr()\n",
    "    page.h1(\"Announcements\", align=\"center\")\n",
    "    for txt in textlist:\n",
    "        page.p(txt,align=\"center\")\n",
    "        \n",
    "# Calendar items are passed as a list of text strings\n",
    "def print_calendar(textlist,page):\n",
    "    page.hr()\n",
    "    page.h1(\"Calendar Items\", align=\"center\")\n",
    "    for txt in textlist:\n",
    "        page.p(txt,align=\"center\")\n",
    "\n",
    "# Custom section for Preparedness Corner, etc.\n",
    "def custom(title, txtlist, linklist, page):\n",
    "    page.hr()\n",
    "    page.h1(title, align=\"center\")\n",
    "    if txtlist != None:\n",
    "        for txt in txtlist:\n",
    "            page.p(txt,align=\"center\")\n",
    "    if linklist != None:\n",
    "        for link in linklist:\n",
    "            page.p(e.a(link[0], href=link[1], target=\"_blank\", rel=\"noreferrer noopener\"),align=\"center\")\n",
    "        \n",
    "# Place some links, passed as a list containing text and url\n",
    "def links(linklist, page):\n",
    "    page.hr()\n",
    "    page.h1(\"Links\", align=\"center\")\n",
    "    for link in linklist:\n",
    "        page.p(e.a(link[0], href=link[1], target=\"_blank\", rel=\"noreferrer noopener\"),align=\"center\")\n",
    "        \n",
    "# Print credits at the bottom of the page\n",
    "def credit(editor, page):\n",
    "#'''Print credits and datestamp ''' \n",
    "    today = dt.date.today()\n",
    "    page.hr()\n",
    "    text = today.strftime(\"Edited %B %d, %Y by \") + editor\n",
    "    page.small(text,align=\"center\")        \n",
    "\n",
    "def onelink(link, page):\n",
    "    #page.hr()\n",
    "    #page.h1(\"Links\", align=\"center\")\n",
    "    page.p(e.a(link[0], href=link[1], target=\"_blank\", rel=\"noreferrer noopener\"),align=\"center\")    "
   ]
  },
  {
   "cell_type": "code",
   "execution_count": 82,
   "id": "1d48a03c",
   "metadata": {},
   "outputs": [],
   "source": [
    "\n",
    "\n",
    "footer = \"\"\n",
    "styles = ( 'layout.css', 'alt.css', 'images.css' )\n",
    "\n",
    "page = htmlpy.page( )\n",
    "page.init()\n",
    "page.br( )\n",
    " \n",
    "# Make sure it will look good on all devices\n",
    "page.meta(name=\"viewport\", content=\"width=device-width, initial-scale=1.0\")\n",
    "\n",
    "# Define the elements on the current week's programs here\n",
    "Title = \"Easter Faith Walk\"\n",
    "pagetitle(Title, \"Sugar Land Second Ward\", \"April 12, 2025\", page)"
   ]
  },
  {
   "cell_type": "markdown",
   "id": "f4ed3987",
   "metadata": {},
   "source": [
    "## Artwork\n",
    "Pick an artwork from the defined list of links in artlinks.py and enter the number here\n",
    "\n",
    "Christmas-themed keys are \"Nativity1\", \"Annunc\", \"Birth\", \"Simon\""
   ]
  },
  {
   "cell_type": "code",
   "execution_count": 83,
   "id": "5eca8859",
   "metadata": {},
   "outputs": [],
   "source": [
    "# Place an artwork from the imported dictionary of links\n",
    "#page.p(e.img(width=299, height=300*0.8, src=artlinks.art[2]), align=\"center\")\n",
    "page.p(e.img(style=\"max-width:50%;height:auto;\", src=artlinks.art['Easter2']), align=\"center\")"
   ]
  },
  {
   "cell_type": "markdown",
   "id": "b9aa0b92",
   "metadata": {},
   "source": [
    "## Overview and links to resources"
   ]
  },
  {
   "cell_type": "markdown",
   "id": "c6564ff0",
   "metadata": {},
   "source": [
    "## Links to Easter Videos"
   ]
  },
  {
   "cell_type": "code",
   "execution_count": 84,
   "id": "6969936f",
   "metadata": {},
   "outputs": [],
   "source": [
    "\n",
    "onelink((\"Watch He Is Risen!\",\"https://www.youtube.com/watch?v=CzPZ9PRE0WE\"), page)\n",
    "# Post items for each day\n",
    "\n",
    "custom(\"Palm Sunday: A Joyful Entrance \", None, None, page)\n",
    "page.p(e.img(style=\"max-width:50%;height:auto;\", src=artlinks.art['PalmSunday']), align=\"center\")\n",
    "link = (\"Watch The Good News\",\"https://www.youtube.com/watch?v=8KCUs7oJxjc\")\n",
    "onelink(link, page)\n",
    "\n",
    "custom(\"Monday: An Act of Astonishing Bravery\", None, None, page)\n",
    "page.p(e.img(style=\"max-width:50%;height:auto;\", src=artlinks.art['Monday']), align=\"center\")\n",
    "link = (\"Watch Jesus Cleanses the Temple\",\"https://www.youtube.com/watch?v=kyvTMggabJc\")\n",
    "onelink(link, page)\n",
    "\n",
    "custom(\"Tuesday: Timeless Words of Peace\", None, None, page)\n",
    "page.p(e.img(style=\"max-width:50%;height:auto;\", src=artlinks.art['Tuesday']), align=\"center\")\n",
    "#link = (\"Watch the Good News\",\"https://www.youtube.com/watch?v=8KCUs7oJxjc\")\n",
    "#onelink(link, page)\n",
    "\n",
    "custom(\"Wednesday: Prayers to the Father\", None, None, page)\n",
    "page.p(e.img(style=\"max-width:50%;height:auto;\", src=artlinks.art['Wednesday']), align=\"center\")\n",
    "#link = (\"Watch the Good News\",\"https://www.youtube.com/watch?v=8KCUs7oJxjc\")\n",
    "#onelink(link, page)\n",
    "\n",
    "custom(\"Thursday: His Sacrifice Begins\", None, None, page)\n",
    "page.p(e.img(style=\"max-width:50%;height:auto;\", src=artlinks.art['Thursday']), align=\"center\")\n",
    "#link = (\"Watch the Good News\",\"https://www.youtube.com/watch?v=8KCUs7oJxjc\")\n",
    "#onelink(link, page)\n",
    "\n",
    "custom(\"Good Friday: Final Words of Forgiveness\", None, None, page)\n",
    "page.p(e.img(style=\"max-width:50%;height:auto;\", src=artlinks.art['GoodFriday']), align=\"center\")\n",
    "#link = (\"Watch the Good News\",\"https://www.youtube.com/watch?v=8KCUs7oJxjc\")\n",
    "#onelink(link, page)\n",
    "\n",
    "custom(\"Saturday: Hope through the Darkness\", None, None, page)\n",
    "page.p(e.img(style=\"max-width:50%;height:auto;\", src=artlinks.art['Saturday']), align=\"center\")\n",
    "#link = (\"Watch the Good News\",\"https://www.youtube.com/watch?v=8KCUs7oJxjc\")\n",
    "#onelink(link, page)\n",
    "\n",
    "custom(\"Easter Sunday: To Live Again\", None, None, page)\n",
    "page.p(e.img(style=\"max-width:50%;height:auto;\", src=artlinks.art['EasterSunday']), align=\"center\")\n",
    "#link = (\"Watch the Good News\",\"https://www.youtube.com/watch?v=8KCUs7oJxjc\")\n",
    "#onelink(link, page)\n"
   ]
  },
  {
   "cell_type": "code",
   "execution_count": null,
   "id": "50d50bc2",
   "metadata": {},
   "outputs": [],
   "source": [
    "\n",
    "page.hr\n",
    "link = (\"Visit us\", \"https://local.churchofjesuschrist.org/en/units/us/tx/sugar-land-2nd-ward\")\n",
    "onelink(link, page)\n",
    "\n"
   ]
  },
  {
   "cell_type": "markdown",
   "id": "ea336a25",
   "metadata": {},
   "source": [
    "# Write out the file to Faithwalk.html, which must be posted online"
   ]
  },
  {
   "cell_type": "markdown",
   "id": "86d684c0",
   "metadata": {},
   "source": []
  },
  {
   "cell_type": "code",
   "execution_count": 88,
   "id": "3e60260a",
   "metadata": {},
   "outputs": [
    {
     "name": "stdout",
     "output_type": "stream",
     "text": [
      "<!DOCTYPE HTML PUBLIC '-//W3C//DTD HTML 4.01 Transitional//EN'>\n",
      "<html lang=\"en\">\n",
      "<head>\n",
      "</head>\n",
      "<body>\n",
      "<br />\n",
      "<meta name=\"viewport\" content=\"width=device-width, initial-scale=1.0\" />\n",
      "<h1 align=\"center\">Easter Faith Walk</h1>\n",
      "<h2 align=\"center\">Sugar Land Second Ward</h2>\n",
      "<h2 align=\"center\">April 12, 2025</h2>\n",
      "<p align=\"center\"><img style=\"max-width:50%;height:auto;\" src=\"https://assets.churchofjesuschrist.org/5e/ba/5ebab014cfad8e4be5531d5226cfdb59feeeccf2/mary_and_the_resurrected_christ.jpeg\" /></p>\n",
      "<p align=\"center\"><a href=\"https://www.youtube.com/watch?v=CzPZ9PRE0WE\" target=\"_blank\" rel=\"noreferrer noopener\">Watch He Is Risen!</a></p>\n",
      "<hr />\n",
      "<h1 align=\"center\">Palm Sunday: A Joyful Entrance </h1>\n",
      "<p align=\"center\"><img style=\"max-width:50%;height:auto;\" src=\"https://www.churchofjesuschrist.org/imgs/1580c9adb1ed11ec97a0eeeeac1ef4e238c2150f/full/1280%2C/0/default\" /></p>\n",
      "<p align=\"center\"><a href=\"https://www.youtube.com/watch?v=8KCUs7oJxjc\" target=\"_blank\" rel=\"noreferrer noopener\">Watch The Good News</a></p>\n",
      "<hr />\n",
      "<h1 align=\"center\">Monday: An Act of Astonishing Bravery</h1>\n",
      "<p align=\"center\"><img style=\"max-width:50%;height:auto;\" src=\"https://www.churchofjesuschrist.org/imgs/6ac30170af9711ecb42feeeeac1e3b7684a2ecc1/full/1280%2C/0/default\" /></p>\n",
      "<p align=\"center\"><a href=\"https://www.youtube.com/watch?v=kyvTMggabJc\" target=\"_blank\" rel=\"noreferrer noopener\">Watch Jesus Cleanses the Temple</a></p>\n",
      "<hr />\n",
      "<h1 align=\"center\">Tuesday: Timeless Words of Peace</h1>\n",
      "<p align=\"center\"><img style=\"max-width:50%;height:auto;\" src=\"https://www.churchofjesuschrist.org/imgs/6a6cf232af9711ec91a3eeeeac1eccb06fa26bf0/full/1280%2C/0/default\" /></p>\n",
      "<hr />\n",
      "<h1 align=\"center\">Wednesday: Prayers to the Father</h1>\n",
      "<p align=\"center\"><img style=\"max-width:50%;height:auto;\" src=\"https://www.churchofjesuschrist.org/imgs/671dc728af9711ec9253eeeeac1e1738ad8f6d64/full/1280%2C/0/default\" /></p>\n",
      "<hr />\n",
      "<h1 align=\"center\">Thursday: His Sacrifice Begins</h1>\n",
      "<p align=\"center\"><img style=\"max-width:50%;height:auto;\" src=\"https://www.churchofjesuschrist.org/imgs/68611c97af9711ecb660eeeeac1e2f3c54a72478/full/1280%2C/0/default\" /></p>\n",
      "<hr />\n",
      "<h1 align=\"center\">Good Friday: Final Words of Forgiveness</h1>\n",
      "<p align=\"center\"><img style=\"max-width:50%;height:auto;\" src=\"https://www.churchofjesuschrist.org/imgs/6951e535af9711ecbc9deeeeac1e65eca708dcd1/full/1280%2C/0/default\" /></p>\n",
      "<hr />\n",
      "<h1 align=\"center\">Saturday: Hope through the Darkness</h1>\n",
      "<p align=\"center\"><img style=\"max-width:50%;height:auto;\" src=\"https://www.churchofjesuschrist.org/imgs/6936bc15af9711ecae2deeeeac1ec13163512fab/full/1280%2C/0/default\" /></p>\n",
      "<hr />\n",
      "<h1 align=\"center\">Easter Sunday: To Live Again</h1>\n",
      "<p align=\"center\"><img style=\"max-width:50%;height:auto;\" src=\"https://www.churchofjesuschrist.org/imgs/0e2c4b6889d711eca0b8eeeeac1ef0e6698f204e/full/800%2C/0/default\" /></p>\n",
      "<p align=\"center\"><a href=\"https://local.churchofjesuschrist.org/en/units/us/tx/sugar-land-2nd-ward\" target=\"_blank\" rel=\"noreferrer noopener\">Visit us</a></p>\n",
      "</body>\n",
      "</html>\n",
      "Script executed in  : 751340.247ms\n"
     ]
    },
    {
     "data": {
      "text/plain": [
       "'\\nEnd of script\\n'"
      ]
     },
     "execution_count": 88,
     "metadata": {},
     "output_type": "execute_result"
    }
   ],
   "source": [
    "print (page)# -*- coding: utf-8 -*\n",
    "\n",
    "original_stdout = sys.stdout\n",
    "with open('FaithWalk.html', 'w') as f:\n",
    "    sys.stdout = f # Change the standard output to the file we created.\n",
    "    print(page)\n",
    "    sys.stdout = original_stdout # Reset the standard output to its original value\n",
    "\n",
    "toc = dt.datetime.now()\n",
    "# find difference loop start and end time and display\n",
    "td = (toc - tic).total_seconds() * 10**3\n",
    "print(f\"Script executed in  : {td:.03f}ms\")\n",
    "\"\"\"\n",
    "End of script\n",
    "\"\"\""
   ]
  },
  {
   "cell_type": "code",
   "execution_count": null,
   "id": "6ba35551",
   "metadata": {},
   "outputs": [],
   "source": []
  }
 ],
 "metadata": {
  "kernelspec": {
   "display_name": "base",
   "language": "python",
   "name": "python3"
  },
  "language_info": {
   "codemirror_mode": {
    "name": "ipython",
    "version": 3
   },
   "file_extension": ".py",
   "mimetype": "text/x-python",
   "name": "python",
   "nbconvert_exporter": "python",
   "pygments_lexer": "ipython3",
   "version": "3.9.12"
  }
 },
 "nbformat": 4,
 "nbformat_minor": 5
}
